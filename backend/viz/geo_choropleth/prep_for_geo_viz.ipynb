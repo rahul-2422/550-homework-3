{
 "cells": [
  {
   "cell_type": "code",
   "execution_count": 1,
   "id": "724232ea-64e5-4b3f-9c69-ee5b351fd830",
   "metadata": {},
   "outputs": [],
   "source": [
    "import pandas as pd"
   ]
  },
  {
   "cell_type": "code",
   "execution_count": 3,
   "id": "9fa0204d-5847-4780-8160-de0ea67a33e5",
   "metadata": {},
   "outputs": [
    {
     "name": "stderr",
     "output_type": "stream",
     "text": [
      "/var/folders/2l/c66m7gc1573_pmbhvhdpkrhm0000gn/T/ipykernel_2470/3564105807.py:1: DtypeWarning: Columns (43,44,45) have mixed types. Specify dtype option on import or set low_memory=False.\n",
      "  df = pd.read_csv(\"0_haunted_places_final_all_features.tsv\", delimiter = \"\\t\")\n"
     ]
    },
    {
     "data": {
      "text/html": [
       "<div>\n",
       "<style scoped>\n",
       "    .dataframe tbody tr th:only-of-type {\n",
       "        vertical-align: middle;\n",
       "    }\n",
       "\n",
       "    .dataframe tbody tr th {\n",
       "        vertical-align: top;\n",
       "    }\n",
       "\n",
       "    .dataframe thead th {\n",
       "        text-align: right;\n",
       "    }\n",
       "</style>\n",
       "<table border=\"1\" class=\"dataframe\">\n",
       "  <thead>\n",
       "    <tr style=\"text-align: right;\">\n",
       "      <th></th>\n",
       "      <th>city</th>\n",
       "      <th>country</th>\n",
       "      <th>description</th>\n",
       "      <th>location</th>\n",
       "      <th>state</th>\n",
       "      <th>state_abbrev</th>\n",
       "      <th>longitude</th>\n",
       "      <th>latitude</th>\n",
       "      <th>city_longitude</th>\n",
       "      <th>city_latitude</th>\n",
       "      <th>...</th>\n",
       "      <th>NORP</th>\n",
       "      <th>PERCENT</th>\n",
       "      <th>WORK_OF_ART</th>\n",
       "      <th>MONEY</th>\n",
       "      <th>PRODUCT</th>\n",
       "      <th>ORG</th>\n",
       "      <th>DATE</th>\n",
       "      <th>FAC</th>\n",
       "      <th>EVENT</th>\n",
       "      <th>LAW</th>\n",
       "    </tr>\n",
       "  </thead>\n",
       "  <tbody>\n",
       "    <tr>\n",
       "      <th>0</th>\n",
       "      <td>Ada</td>\n",
       "      <td>United States</td>\n",
       "      <td>Ada witch - Sometimes you can see a misty blue...</td>\n",
       "      <td>Ada Cemetery</td>\n",
       "      <td>Michigan</td>\n",
       "      <td>MI</td>\n",
       "      <td>-85.504893</td>\n",
       "      <td>42.962106</td>\n",
       "      <td>-85.495480</td>\n",
       "      <td>42.960727</td>\n",
       "      <td>...</td>\n",
       "      <td>[]</td>\n",
       "      <td>[]</td>\n",
       "      <td>['Ghosts of Grand Rapids']</td>\n",
       "      <td>[]</td>\n",
       "      <td>[]</td>\n",
       "      <td>[]</td>\n",
       "      <td>['the turn of the 20th century']</td>\n",
       "      <td>['Honeycreek Road', 'Findlay Cemetery', '2 Mil...</td>\n",
       "      <td>[]</td>\n",
       "      <td>[]</td>\n",
       "    </tr>\n",
       "    <tr>\n",
       "      <th>1</th>\n",
       "      <td>Addison</td>\n",
       "      <td>United States</td>\n",
       "      <td>A little girl was killed suddenly while waitin...</td>\n",
       "      <td>North Adams Rd.</td>\n",
       "      <td>Michigan</td>\n",
       "      <td>MI</td>\n",
       "      <td>-84.381843</td>\n",
       "      <td>41.971425</td>\n",
       "      <td>-84.347168</td>\n",
       "      <td>41.986434</td>\n",
       "      <td>...</td>\n",
       "      <td>[]</td>\n",
       "      <td>[]</td>\n",
       "      <td>[]</td>\n",
       "      <td>[]</td>\n",
       "      <td>[]</td>\n",
       "      <td>[]</td>\n",
       "      <td>['The day']</td>\n",
       "      <td>[]</td>\n",
       "      <td>[]</td>\n",
       "      <td>[]</td>\n",
       "    </tr>\n",
       "    <tr>\n",
       "      <th>2</th>\n",
       "      <td>Adrian</td>\n",
       "      <td>United States</td>\n",
       "      <td>If you take Gorman Rd. west towards Sand Creek...</td>\n",
       "      <td>Ghost Trestle</td>\n",
       "      <td>Michigan</td>\n",
       "      <td>MI</td>\n",
       "      <td>-84.035656</td>\n",
       "      <td>41.904538</td>\n",
       "      <td>-84.037166</td>\n",
       "      <td>41.897547</td>\n",
       "      <td>...</td>\n",
       "      <td>[]</td>\n",
       "      <td>[]</td>\n",
       "      <td>[]</td>\n",
       "      <td>[]</td>\n",
       "      <td>[]</td>\n",
       "      <td>[]</td>\n",
       "      <td>[]</td>\n",
       "      <td>['Gorman Rd.']</td>\n",
       "      <td>[]</td>\n",
       "      <td>[]</td>\n",
       "    </tr>\n",
       "    <tr>\n",
       "      <th>3</th>\n",
       "      <td>Adrian</td>\n",
       "      <td>United States</td>\n",
       "      <td>In the 1970's, one room, room 211, in the old ...</td>\n",
       "      <td>Siena Heights University</td>\n",
       "      <td>Michigan</td>\n",
       "      <td>MI</td>\n",
       "      <td>-84.017565</td>\n",
       "      <td>41.905712</td>\n",
       "      <td>-84.037166</td>\n",
       "      <td>41.897547</td>\n",
       "      <td>...</td>\n",
       "      <td>[]</td>\n",
       "      <td>[]</td>\n",
       "      <td>[]</td>\n",
       "      <td>[]</td>\n",
       "      <td>[]</td>\n",
       "      <td>[]</td>\n",
       "      <td>['today', \"the 1970's\"]</td>\n",
       "      <td>[]</td>\n",
       "      <td>[]</td>\n",
       "      <td>[]</td>\n",
       "    </tr>\n",
       "    <tr>\n",
       "      <th>4</th>\n",
       "      <td>Albion</td>\n",
       "      <td>United States</td>\n",
       "      <td>Kappa Delta Sorority - The Kappa Delta Sororit...</td>\n",
       "      <td>Albion College</td>\n",
       "      <td>Michigan</td>\n",
       "      <td>MI</td>\n",
       "      <td>-84.745177</td>\n",
       "      <td>42.244006</td>\n",
       "      <td>-84.753030</td>\n",
       "      <td>42.243097</td>\n",
       "      <td>...</td>\n",
       "      <td>[]</td>\n",
       "      <td>[]</td>\n",
       "      <td>[]</td>\n",
       "      <td>[]</td>\n",
       "      <td>[]</td>\n",
       "      <td>['Kappa Delta Sorority', 'The Kappa Delta Soro...</td>\n",
       "      <td>[]</td>\n",
       "      <td>[]</td>\n",
       "      <td>[]</td>\n",
       "      <td>[]</td>\n",
       "    </tr>\n",
       "  </tbody>\n",
       "</table>\n",
       "<p>5 rows × 74 columns</p>\n",
       "</div>"
      ],
      "text/plain": [
       "      city        country                                        description  \\\n",
       "0      Ada  United States  Ada witch - Sometimes you can see a misty blue...   \n",
       "1  Addison  United States  A little girl was killed suddenly while waitin...   \n",
       "2   Adrian  United States  If you take Gorman Rd. west towards Sand Creek...   \n",
       "3   Adrian  United States  In the 1970's, one room, room 211, in the old ...   \n",
       "4   Albion  United States  Kappa Delta Sorority - The Kappa Delta Sororit...   \n",
       "\n",
       "                   location     state state_abbrev  longitude   latitude  \\\n",
       "0              Ada Cemetery  Michigan           MI -85.504893  42.962106   \n",
       "1           North Adams Rd.  Michigan           MI -84.381843  41.971425   \n",
       "2             Ghost Trestle  Michigan           MI -84.035656  41.904538   \n",
       "3  Siena Heights University  Michigan           MI -84.017565  41.905712   \n",
       "4            Albion College  Michigan           MI -84.745177  42.244006   \n",
       "\n",
       "   city_longitude  city_latitude  ...  NORP  PERCENT  \\\n",
       "0      -85.495480      42.960727  ...    []       []   \n",
       "1      -84.347168      41.986434  ...    []       []   \n",
       "2      -84.037166      41.897547  ...    []       []   \n",
       "3      -84.037166      41.897547  ...    []       []   \n",
       "4      -84.753030      42.243097  ...    []       []   \n",
       "\n",
       "                  WORK_OF_ART  MONEY PRODUCT  \\\n",
       "0  ['Ghosts of Grand Rapids']     []      []   \n",
       "1                          []     []      []   \n",
       "2                          []     []      []   \n",
       "3                          []     []      []   \n",
       "4                          []     []      []   \n",
       "\n",
       "                                                 ORG  \\\n",
       "0                                                 []   \n",
       "1                                                 []   \n",
       "2                                                 []   \n",
       "3                                                 []   \n",
       "4  ['Kappa Delta Sorority', 'The Kappa Delta Soro...   \n",
       "\n",
       "                               DATE  \\\n",
       "0  ['the turn of the 20th century']   \n",
       "1                       ['The day']   \n",
       "2                                []   \n",
       "3           ['today', \"the 1970's\"]   \n",
       "4                                []   \n",
       "\n",
       "                                                 FAC  EVENT  LAW  \n",
       "0  ['Honeycreek Road', 'Findlay Cemetery', '2 Mil...     []   []  \n",
       "1                                                 []     []   []  \n",
       "2                                     ['Gorman Rd.']     []   []  \n",
       "3                                                 []     []   []  \n",
       "4                                                 []     []   []  \n",
       "\n",
       "[5 rows x 74 columns]"
      ]
     },
     "execution_count": 3,
     "metadata": {},
     "output_type": "execute_result"
    }
   ],
   "source": [
    "df = pd.read_csv(\"0_haunted_places_final_all_features.tsv\", delimiter = \"\\t\")\n",
    "df.head()"
   ]
  },
  {
   "cell_type": "code",
   "execution_count": 5,
   "id": "35f7979c-3d9f-4938-9b00-b4fba8b15ac9",
   "metadata": {},
   "outputs": [
    {
     "data": {
      "text/plain": [
       "Index(['city', 'country', 'description', 'location', 'state', 'state_abbrev',\n",
       "       'longitude', 'latitude', 'city_longitude', 'city_latitude',\n",
       "       'Audio Evidence', 'Image/Video/Visual Evidence', 'Haunted Places Date',\n",
       "       'Haunted Places Witness Count', 'Time of Day', 'Apparition Type',\n",
       "       'Event type', 'Alcohol Abuse Total Death of that State',\n",
       "       'Alcohol % Under 21', 'Alcohol Number of Deaths Under 21', 'Sunrise',\n",
       "       'Sunset', 'Daylight Hours', 'ZIP Code', 'Median Household Income',\n",
       "       'Unemployment Rate (%)', 'Median Age', 'image_id', 'image_url',\n",
       "       'image_timestamp', 'image_altitude', 'image_quality_score',\n",
       "       'State 25+ Population', 'State% of High School Diploma',\n",
       "       'State% of Bachelor's Degree', 'State% of Advanced Degree',\n",
       "       'image_gen_prompt', 'image_gen_prompt_rex', 'image_file_name',\n",
       "       'all_image_caption', 'caption_confidence', 'all_detected_objects',\n",
       "       'objects_confidence', 'image_generation', 'image_caption',\n",
       "       'detected_objects', 'parse_text', 'Geographic_LATITUDE',\n",
       "       'Geographic_LONGITUDE', 'Geographic_NAME', 'Optional_LATITUDE1',\n",
       "       'Optional_LONGITUDE1', 'Optional_NAME1', 'Optional_LATITUDE2',\n",
       "       'Optional_LONGITUDE2', 'Optional_NAME2', 'LOC', 'QUANTITY', 'PERSON',\n",
       "       'CARDINAL', 'TIME', 'GPE', 'ORDINAL', 'LANGUAGE', 'NORP', 'PERCENT',\n",
       "       'WORK_OF_ART', 'MONEY', 'PRODUCT', 'ORG', 'DATE', 'FAC', 'EVENT',\n",
       "       'LAW'],\n",
       "      dtype='object')"
      ]
     },
     "execution_count": 5,
     "metadata": {},
     "output_type": "execute_result"
    }
   ],
   "source": [
    "df.columns"
   ]
  },
  {
   "cell_type": "code",
   "execution_count": 7,
   "id": "9817fc2c-f0d7-4ecd-bf98-3c2278337798",
   "metadata": {},
   "outputs": [],
   "source": [
    "filtered_df = df[[\"city\", \"state\", \"State% of Bachelor's Degree\"]]"
   ]
  },
  {
   "cell_type": "code",
   "execution_count": 9,
   "id": "5a9b958b-73db-4377-8d9b-239fd5d0efab",
   "metadata": {},
   "outputs": [
    {
     "data": {
      "text/plain": [
       "Index(['city', 'state', 'State% of Bachelor's Degree'], dtype='object')"
      ]
     },
     "execution_count": 9,
     "metadata": {},
     "output_type": "execute_result"
    }
   ],
   "source": [
    "filtered_df.columns"
   ]
  },
  {
   "cell_type": "code",
   "execution_count": 11,
   "id": "3966a83c-cc29-4869-a56e-d8da79c555cb",
   "metadata": {},
   "outputs": [
    {
     "data": {
      "text/html": [
       "<div>\n",
       "<style scoped>\n",
       "    .dataframe tbody tr th:only-of-type {\n",
       "        vertical-align: middle;\n",
       "    }\n",
       "\n",
       "    .dataframe tbody tr th {\n",
       "        vertical-align: top;\n",
       "    }\n",
       "\n",
       "    .dataframe thead th {\n",
       "        text-align: right;\n",
       "    }\n",
       "</style>\n",
       "<table border=\"1\" class=\"dataframe\">\n",
       "  <thead>\n",
       "    <tr style=\"text-align: right;\">\n",
       "      <th></th>\n",
       "      <th>city</th>\n",
       "      <th>state</th>\n",
       "      <th>State% of Bachelor's Degree</th>\n",
       "    </tr>\n",
       "  </thead>\n",
       "  <tbody>\n",
       "    <tr>\n",
       "      <th>0</th>\n",
       "      <td>Ada</td>\n",
       "      <td>Michigan</td>\n",
       "      <td>31.67</td>\n",
       "    </tr>\n",
       "    <tr>\n",
       "      <th>1</th>\n",
       "      <td>Addison</td>\n",
       "      <td>Michigan</td>\n",
       "      <td>31.67</td>\n",
       "    </tr>\n",
       "    <tr>\n",
       "      <th>2</th>\n",
       "      <td>Adrian</td>\n",
       "      <td>Michigan</td>\n",
       "      <td>31.67</td>\n",
       "    </tr>\n",
       "    <tr>\n",
       "      <th>3</th>\n",
       "      <td>Adrian</td>\n",
       "      <td>Michigan</td>\n",
       "      <td>31.67</td>\n",
       "    </tr>\n",
       "    <tr>\n",
       "      <th>4</th>\n",
       "      <td>Albion</td>\n",
       "      <td>Michigan</td>\n",
       "      <td>31.67</td>\n",
       "    </tr>\n",
       "  </tbody>\n",
       "</table>\n",
       "</div>"
      ],
      "text/plain": [
       "      city     state  State% of Bachelor's Degree\n",
       "0      Ada  Michigan                        31.67\n",
       "1  Addison  Michigan                        31.67\n",
       "2   Adrian  Michigan                        31.67\n",
       "3   Adrian  Michigan                        31.67\n",
       "4   Albion  Michigan                        31.67"
      ]
     },
     "execution_count": 11,
     "metadata": {},
     "output_type": "execute_result"
    }
   ],
   "source": [
    "filtered_df.head()"
   ]
  },
  {
   "cell_type": "code",
   "execution_count": 13,
   "id": "b298d8d1-4074-462b-a77a-2d1fb2ebd0ce",
   "metadata": {},
   "outputs": [],
   "source": [
    "count = filtered_df.groupby(['state', 'city']).size().reset_index(name='count')"
   ]
  },
  {
   "cell_type": "code",
   "execution_count": 15,
   "id": "2adf6540-cefe-4d7b-9a31-f1fe31fef8c8",
   "metadata": {},
   "outputs": [
    {
     "data": {
      "text/html": [
       "<div>\n",
       "<style scoped>\n",
       "    .dataframe tbody tr th:only-of-type {\n",
       "        vertical-align: middle;\n",
       "    }\n",
       "\n",
       "    .dataframe tbody tr th {\n",
       "        vertical-align: top;\n",
       "    }\n",
       "\n",
       "    .dataframe thead th {\n",
       "        text-align: right;\n",
       "    }\n",
       "</style>\n",
       "<table border=\"1\" class=\"dataframe\">\n",
       "  <thead>\n",
       "    <tr style=\"text-align: right;\">\n",
       "      <th></th>\n",
       "      <th>state</th>\n",
       "      <th>city</th>\n",
       "      <th>count</th>\n",
       "    </tr>\n",
       "  </thead>\n",
       "  <tbody>\n",
       "    <tr>\n",
       "      <th>0</th>\n",
       "      <td>Alabama</td>\n",
       "      <td>Adamsville</td>\n",
       "      <td>2</td>\n",
       "    </tr>\n",
       "    <tr>\n",
       "      <th>1</th>\n",
       "      <td>Alabama</td>\n",
       "      <td>Alabaster</td>\n",
       "      <td>1</td>\n",
       "    </tr>\n",
       "    <tr>\n",
       "      <th>2</th>\n",
       "      <td>Alabama</td>\n",
       "      <td>Albertville</td>\n",
       "      <td>6</td>\n",
       "    </tr>\n",
       "    <tr>\n",
       "      <th>3</th>\n",
       "      <td>Alabama</td>\n",
       "      <td>Andalusia</td>\n",
       "      <td>1</td>\n",
       "    </tr>\n",
       "    <tr>\n",
       "      <th>4</th>\n",
       "      <td>Alabama</td>\n",
       "      <td>Anniston</td>\n",
       "      <td>5</td>\n",
       "    </tr>\n",
       "  </tbody>\n",
       "</table>\n",
       "</div>"
      ],
      "text/plain": [
       "     state         city  count\n",
       "0  Alabama   Adamsville      2\n",
       "1  Alabama    Alabaster      1\n",
       "2  Alabama  Albertville      6\n",
       "3  Alabama    Andalusia      1\n",
       "4  Alabama     Anniston      5"
      ]
     },
     "execution_count": 15,
     "metadata": {},
     "output_type": "execute_result"
    }
   ],
   "source": [
    "count.head()"
   ]
  },
  {
   "cell_type": "code",
   "execution_count": 19,
   "id": "0e37eca1-b8ec-4164-8377-1ec1e78814b8",
   "metadata": {},
   "outputs": [],
   "source": [
    "count[\"merge\"] = count[\"city\"] + \" \" + count[\"state\"]"
   ]
  },
  {
   "cell_type": "code",
   "execution_count": 21,
   "id": "292dab6f-9027-4818-8e2c-72f8afc24551",
   "metadata": {},
   "outputs": [],
   "source": [
    "subset_df = df[['city', 'state', 'city_longitude', 'city_latitude']].drop_duplicates()"
   ]
  },
  {
   "cell_type": "code",
   "execution_count": 23,
   "id": "a1c64a3e-fa5b-4d84-85b3-0db569a37e2e",
   "metadata": {},
   "outputs": [],
   "source": [
    "subset_df[\"merge\"] = subset_df[\"city\"] + \" \" + subset_df[\"state\"]"
   ]
  },
  {
   "cell_type": "code",
   "execution_count": 25,
   "id": "472a22eb-6d71-4e4c-a44b-99c97b4ff6f4",
   "metadata": {},
   "outputs": [],
   "source": [
    "subset_df2 = subset_df[[\"city_longitude\", \"city_latitude\", \"merge\"]]\n",
    "merged = pd.merge(count, subset_df2, on=\"merge\", how=\"left\")"
   ]
  },
  {
   "cell_type": "code",
   "execution_count": 27,
   "id": "b9edba1a-16fa-489e-b5ab-29d98912154a",
   "metadata": {},
   "outputs": [
    {
     "data": {
      "text/plain": [
       "(5454, 6)"
      ]
     },
     "execution_count": 27,
     "metadata": {},
     "output_type": "execute_result"
    }
   ],
   "source": [
    "merged.shape"
   ]
  },
  {
   "cell_type": "code",
   "execution_count": 29,
   "id": "6a589630-31ca-4db2-9c44-39d849bc6184",
   "metadata": {},
   "outputs": [],
   "source": [
    "merged = merged.drop('merge', axis=1)"
   ]
  },
  {
   "cell_type": "code",
   "execution_count": 31,
   "id": "6dba6524-b57c-4bea-86da-b4c305e89963",
   "metadata": {},
   "outputs": [
    {
     "data": {
      "text/html": [
       "<div>\n",
       "<style scoped>\n",
       "    .dataframe tbody tr th:only-of-type {\n",
       "        vertical-align: middle;\n",
       "    }\n",
       "\n",
       "    .dataframe tbody tr th {\n",
       "        vertical-align: top;\n",
       "    }\n",
       "\n",
       "    .dataframe thead th {\n",
       "        text-align: right;\n",
       "    }\n",
       "</style>\n",
       "<table border=\"1\" class=\"dataframe\">\n",
       "  <thead>\n",
       "    <tr style=\"text-align: right;\">\n",
       "      <th></th>\n",
       "      <th>state</th>\n",
       "      <th>city</th>\n",
       "      <th>count</th>\n",
       "      <th>city_longitude</th>\n",
       "      <th>city_latitude</th>\n",
       "    </tr>\n",
       "  </thead>\n",
       "  <tbody>\n",
       "    <tr>\n",
       "      <th>0</th>\n",
       "      <td>Alabama</td>\n",
       "      <td>Adamsville</td>\n",
       "      <td>2</td>\n",
       "      <td>-86.956106</td>\n",
       "      <td>33.600939</td>\n",
       "    </tr>\n",
       "    <tr>\n",
       "      <th>1</th>\n",
       "      <td>Alabama</td>\n",
       "      <td>Alabaster</td>\n",
       "      <td>1</td>\n",
       "      <td>-86.816377</td>\n",
       "      <td>33.244281</td>\n",
       "    </tr>\n",
       "    <tr>\n",
       "      <th>2</th>\n",
       "      <td>Alabama</td>\n",
       "      <td>Albertville</td>\n",
       "      <td>6</td>\n",
       "      <td>-86.208867</td>\n",
       "      <td>34.267594</td>\n",
       "    </tr>\n",
       "    <tr>\n",
       "      <th>3</th>\n",
       "      <td>Alabama</td>\n",
       "      <td>Andalusia</td>\n",
       "      <td>1</td>\n",
       "      <td>-86.483291</td>\n",
       "      <td>31.308504</td>\n",
       "    </tr>\n",
       "    <tr>\n",
       "      <th>4</th>\n",
       "      <td>Alabama</td>\n",
       "      <td>Anniston</td>\n",
       "      <td>5</td>\n",
       "      <td>-85.831632</td>\n",
       "      <td>33.659826</td>\n",
       "    </tr>\n",
       "  </tbody>\n",
       "</table>\n",
       "</div>"
      ],
      "text/plain": [
       "     state         city  count  city_longitude  city_latitude\n",
       "0  Alabama   Adamsville      2      -86.956106      33.600939\n",
       "1  Alabama    Alabaster      1      -86.816377      33.244281\n",
       "2  Alabama  Albertville      6      -86.208867      34.267594\n",
       "3  Alabama    Andalusia      1      -86.483291      31.308504\n",
       "4  Alabama     Anniston      5      -85.831632      33.659826"
      ]
     },
     "execution_count": 31,
     "metadata": {},
     "output_type": "execute_result"
    }
   ],
   "source": [
    "merged.head()"
   ]
  },
  {
   "cell_type": "code",
   "execution_count": null,
   "id": "c2d7d559-1db0-4d97-80bb-58af3a2ade1c",
   "metadata": {},
   "outputs": [],
   "source": [
    "merged.isnull().sum()"
   ]
  },
  {
   "cell_type": "code",
   "execution_count": null,
   "id": "300598d9-c95a-43a0-846d-162d18069e53",
   "metadata": {},
   "outputs": [],
   "source": [
    "merged[merged[['city_latitude', 'city_longitude']].isnull().any(axis=1)]"
   ]
  },
  {
   "cell_type": "code",
   "execution_count": 35,
   "id": "eef3c6d4-0f1d-47f2-9764-91e70e219fa3",
   "metadata": {},
   "outputs": [
    {
     "name": "stdout",
     "output_type": "stream",
     "text": [
      "Before dropping nulls: (5454, 5)\n",
      "After dropping nulls: (5428, 5)\n"
     ]
    }
   ],
   "source": [
    "print(f\"Before dropping nulls: {merged.shape}\")\n",
    "merged = merged.dropna()\n",
    "print(f\"After dropping nulls: {merged.shape}\")"
   ]
  },
  {
   "cell_type": "code",
   "execution_count": 37,
   "id": "3ad7c160-0e1a-41f1-b3c7-fe942ca73bdd",
   "metadata": {},
   "outputs": [],
   "source": [
    "merged.to_json(\"haunted_places_count.json\", orient=\"records\", indent=2)"
   ]
  },
  {
   "cell_type": "code",
   "execution_count": 39,
   "id": "5820c2f2-ef36-4199-89c1-534272c2bdd9",
   "metadata": {},
   "outputs": [],
   "source": [
    "filtered_df = filtered_df.drop('city', axis=1)"
   ]
  },
  {
   "cell_type": "code",
   "execution_count": 41,
   "id": "b29f45e2-13d0-4043-994e-bec97e287aea",
   "metadata": {},
   "outputs": [],
   "source": [
    "filtered_df = filtered_df.drop_duplicates()"
   ]
  },
  {
   "cell_type": "code",
   "execution_count": 43,
   "id": "a6c2da39-7c9d-4259-abbd-47588b535404",
   "metadata": {},
   "outputs": [
    {
     "name": "stdout",
     "output_type": "stream",
     "text": [
      "['Michigan' 'Pennsylvania' 'California' 'Massachusetts' 'Arkansas'\n",
      " 'Oregon' 'Arizona' 'Maryland' 'Oklahoma' 'Maine' 'Alaska' 'Louisiana'\n",
      " 'Alabama' 'Ohio' 'New Jersey' 'Washington DC' 'North Dakota' 'Wyoming'\n",
      " 'North Carolina' 'Kentucky' 'Kansas' 'New York' 'Wisconsin' 'Iowa'\n",
      " 'West Virginia' 'New Mexico' 'Washington' 'Illinois' 'Indiana' 'Virginia'\n",
      " 'Idaho' 'New Hampshire' 'Vermont' 'Nevada' 'Hawaii' 'Utah' 'Nebraska'\n",
      " 'Georgia' 'Texas' 'Montana' 'Tennessee' 'Florida' 'Missouri' 'Delaware'\n",
      " 'South Dakota' 'Mississippi' 'Connecticut' 'Minnesota' 'South Carolina'\n",
      " 'Rhode Island' 'Colorado']\n"
     ]
    }
   ],
   "source": [
    "print(filtered_df['state'].unique())"
   ]
  },
  {
   "cell_type": "code",
   "execution_count": 45,
   "id": "1a46fa81-7305-4ad8-95d1-12eaec956fad",
   "metadata": {},
   "outputs": [
    {
     "data": {
      "text/plain": [
       "(51, 2)"
      ]
     },
     "execution_count": 45,
     "metadata": {},
     "output_type": "execute_result"
    }
   ],
   "source": [
    "filtered_df.shape"
   ]
  },
  {
   "cell_type": "code",
   "execution_count": 47,
   "id": "e9e4a419-9067-429a-81f3-9f3540805881",
   "metadata": {},
   "outputs": [],
   "source": [
    "filtered_df.to_json(\"state_bachelors.json\", orient=\"records\", indent=2)"
   ]
  }
 ],
 "metadata": {
  "kernelspec": {
   "display_name": "Python 3 (ipykernel)",
   "language": "python",
   "name": "python3"
  },
  "language_info": {
   "codemirror_mode": {
    "name": "ipython",
    "version": 3
   },
   "file_extension": ".py",
   "mimetype": "text/x-python",
   "name": "python",
   "nbconvert_exporter": "python",
   "pygments_lexer": "ipython3",
   "version": "3.12.2"
  }
 },
 "nbformat": 4,
 "nbformat_minor": 5
}
